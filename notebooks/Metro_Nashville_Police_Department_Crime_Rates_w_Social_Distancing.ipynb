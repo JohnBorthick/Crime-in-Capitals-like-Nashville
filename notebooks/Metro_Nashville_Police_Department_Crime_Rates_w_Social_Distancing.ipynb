{
 "cells": [
  {
   "cell_type": "markdown",
   "metadata": {},
   "source": [
    "#### Import these Packages to read in and slice the data."
   ]
  },
  {
   "cell_type": "code",
   "execution_count": 60,
   "metadata": {},
   "outputs": [],
   "source": [
    "import pandas as pd\n",
    "import glob\n",
    "import matplotlib.pyplot as plt\n",
    "import seaborn as sns"
   ]
  },
  {
   "cell_type": "code",
   "execution_count": 2,
   "metadata": {},
   "outputs": [],
   "source": [
    "path =  '../data_calls/'\n",
    "all_files = glob.glob(path + \"*.csv\")\n",
    "\n",
    "calls = []\n",
    "\n",
    "for filename in all_files:\n",
    "    call_df = pd.read_csv(filename)\n",
    "    calls.append(call_df)\n",
    "\n",
    "calls_df = pd.concat(calls, axis=0, ignore_index=True)"
   ]
  },
  {
   "cell_type": "code",
   "execution_count": 3,
   "metadata": {},
   "outputs": [],
   "source": [
    "path =  '../data_incidents/'\n",
    "all_files = glob.glob(path + \"*.csv\")\n",
    "\n",
    "incidents = []\n",
    "\n",
    "for filename in all_files:\n",
    "    in_df = pd.read_csv(filename)\n",
    "    incidents.append(in_df)\n",
    "\n",
    "incidents_df = pd.concat(incidents, axis=0, ignore_index=True)"
   ]
  },
  {
   "cell_type": "code",
   "execution_count": 50,
   "metadata": {},
   "outputs": [
    {
     "data": {
      "text/plain": [
       "Index(['Event Number', 'Call Received', 'Complaint Number', 'Shift', 'Tencode',\n",
       "       'Tencode Description', 'Tencode Suffix', 'Tencode Suffix Description',\n",
       "       'Disposition Code', 'Disposition Description', 'Block', 'Street Name',\n",
       "       'Unit Dispatched', 'Sector', 'Zone', 'RPA', 'Latitude', 'Longitude',\n",
       "       'Mapped Location', 'year', 'month'],\n",
       "      dtype='object')"
      ]
     },
     "execution_count": 50,
     "metadata": {},
     "output_type": "execute_result"
    }
   ],
   "source": [
    "calls_df.columns"
   ]
  },
  {
   "cell_type": "code",
   "execution_count": 5,
   "metadata": {},
   "outputs": [],
   "source": [
    "calls_df['Call Received'] = pd.to_datetime(calls_df['Call Received'])"
   ]
  },
  {
   "cell_type": "code",
   "execution_count": 7,
   "metadata": {},
   "outputs": [],
   "source": [
    "calls_df['year'] = pd.DatetimeIndex(calls_df['Call Received']).year\n",
    "calls_df['month'] = pd.DatetimeIndex(calls_df['Call Received']).month"
   ]
  },
  {
   "cell_type": "code",
   "execution_count": 8,
   "metadata": {},
   "outputs": [],
   "source": [
    "month_list=[1,2,3,4,5]"
   ]
  },
  {
   "cell_type": "code",
   "execution_count": 9,
   "metadata": {},
   "outputs": [],
   "source": [
    "calls_6months = calls_df[calls_df.month.isin(month_list)]"
   ]
  },
  {
   "cell_type": "code",
   "execution_count": 10,
   "metadata": {},
   "outputs": [
    {
     "data": {
      "text/plain": [
       "(3613862, 21)"
      ]
     },
     "execution_count": 10,
     "metadata": {},
     "output_type": "execute_result"
    }
   ],
   "source": [
    "calls_6months.shape"
   ]
  },
  {
   "cell_type": "code",
   "execution_count": 48,
   "metadata": {},
   "outputs": [],
   "source": [
    "calls_6months.columns = calls_6months.columns.str.replace(' ','_')\n"
   ]
  },
  {
   "cell_type": "code",
   "execution_count": 49,
   "metadata": {},
   "outputs": [],
   "source": [
    "calls_6months.columns = calls_6months.columns.str.lower()"
   ]
  },
  {
   "cell_type": "code",
   "execution_count": 57,
   "metadata": {},
   "outputs": [
    {
     "name": "stdout",
     "output_type": "stream",
     "text": [
      "<class 'pandas.core.frame.DataFrame'>\n",
      "Int64Index: 3613862 entries, 6480739 to 2237155\n",
      "Data columns (total 21 columns):\n",
      "event_number                  object\n",
      "call_received                 datetime64[ns]\n",
      "complaint_number              int64\n",
      "shift                         object\n",
      "tencode                       int64\n",
      "tencode_description           object\n",
      "tencode_suffix                object\n",
      "tencode_suffix_description    object\n",
      "disposition_code              int64\n",
      "disposition_description       object\n",
      "block                         float64\n",
      "street_name                   object\n",
      "unit_dispatched               object\n",
      "sector                        object\n",
      "zone                          object\n",
      "rpa                           float64\n",
      "latitude                      float64\n",
      "longitude                     float64\n",
      "mapped_location               object\n",
      "year                          int64\n",
      "month                         int64\n",
      "dtypes: datetime64[ns](1), float64(4), int64(5), object(11)\n",
      "memory usage: 606.6+ MB\n"
     ]
    }
   ],
   "source": [
    "calls_6months.info()"
   ]
  },
  {
   "cell_type": "code",
   "execution_count": 55,
   "metadata": {},
   "outputs": [],
   "source": [
    "calls_6months.to_csv('../data/calls_5months.csv', index= False)"
   ]
  },
  {
   "cell_type": "code",
   "execution_count": 12,
   "metadata": {},
   "outputs": [],
   "source": [
    "incidents_df['Incident Reported'] = pd.to_datetime(incidents_df['Incident Reported'], errors = 'ignore')"
   ]
  },
  {
   "cell_type": "code",
   "execution_count": 11,
   "metadata": {},
   "outputs": [],
   "source": [
    "incidents_df['Incident Occurred'] = pd.to_datetime(incidents_df['Incident Occurred'])"
   ]
  },
  {
   "cell_type": "code",
   "execution_count": 14,
   "metadata": {},
   "outputs": [],
   "source": [
    "incidents_df['occurred_year'] = pd.DatetimeIndex(incidents_df['Incident Occurred']).year"
   ]
  },
  {
   "cell_type": "code",
   "execution_count": 15,
   "metadata": {},
   "outputs": [],
   "source": [
    "incidents_df['occurred_month'] = pd.DatetimeIndex(incidents_df['Incident Occurred']).month"
   ]
  },
  {
   "cell_type": "markdown",
   "metadata": {},
   "source": [
    "# Working on Why 2020 is over double all the previous years.\n",
    "## And the answer is : 2020 contains dates that are not just in 2020. Some of the earliest are I saw are 1994. I am not sure why this is occurring but just slicing to "
   ]
  },
  {
   "cell_type": "code",
   "execution_count": 16,
   "metadata": {},
   "outputs": [
    {
     "name": "stderr",
     "output_type": "stream",
     "text": [
      "/opt/anaconda3/lib/python3.7/site-packages/IPython/core/interactiveshell.py:3058: DtypeWarning: Columns (30) have mixed types. Specify dtype option on import or set low_memory=False.\n",
      "  interactivity=interactivity, compiler=compiler, result=result)\n"
     ]
    }
   ],
   "source": [
    "inci_20 = pd.read_csv('../data/Metro_Nashville_Police_Department_Incidents__2020_.csv')"
   ]
  },
  {
   "cell_type": "code",
   "execution_count": 17,
   "metadata": {},
   "outputs": [
    {
     "data": {
      "text/plain": [
       "Index(['Primary Key', 'Incident Number', 'Report Type',\n",
       "       'Report Type Description', 'Incident Status Code',\n",
       "       'Incident Status Description', 'Investigation Status',\n",
       "       'Incident Occurred', 'Incident Reported', 'Incident Location', 'ZIP',\n",
       "       'RPA', 'Zone', 'Location Code', 'Location Description',\n",
       "       'Offense Number', 'Offense NIBRS', 'Offense Description',\n",
       "       'Weapon Primary', 'Weapon Description', 'Victim Number',\n",
       "       'Domestic Related', 'Victim Type', 'Victim Description',\n",
       "       'Victim Gender', 'Victim Race', 'Victim Ethnicity',\n",
       "       'Victim County Resident', 'Latitude', 'Longitude', 'Mapped Location'],\n",
       "      dtype='object')"
      ]
     },
     "execution_count": 17,
     "metadata": {},
     "output_type": "execute_result"
    }
   ],
   "source": [
    "inci_20.columns"
   ]
  },
  {
   "cell_type": "code",
   "execution_count": 18,
   "metadata": {},
   "outputs": [],
   "source": [
    "inci_20['Incident Occurred'] = pd.to_datetime(inci_20['Incident Occurred'])\n"
   ]
  },
  {
   "cell_type": "code",
   "execution_count": 19,
   "metadata": {},
   "outputs": [],
   "source": [
    "inci_20['Incident Reported'] = pd.to_datetime(inci_20['Incident Reported'])\n"
   ]
  },
  {
   "cell_type": "code",
   "execution_count": 20,
   "metadata": {},
   "outputs": [],
   "source": [
    "inci_20['occurred_year'] = pd.DatetimeIndex(inci_20['Incident Occurred']).year\n"
   ]
  },
  {
   "cell_type": "code",
   "execution_count": 21,
   "metadata": {},
   "outputs": [],
   "source": [
    "inci_20['occurred_month'] = pd.DatetimeIndex(inci_20['Incident Occurred']).month"
   ]
  },
  {
   "cell_type": "code",
   "execution_count": 22,
   "metadata": {},
   "outputs": [],
   "source": [
    "inci_20 = inci_20[inci_20.occurred_year==2020]"
   ]
  },
  {
   "cell_type": "code",
   "execution_count": 23,
   "metadata": {},
   "outputs": [
    {
     "data": {
      "text/plain": [
       "(48171, 33)"
      ]
     },
     "execution_count": 23,
     "metadata": {},
     "output_type": "execute_result"
    }
   ],
   "source": [
    "inci_20.shape"
   ]
  },
  {
   "cell_type": "code",
   "execution_count": 24,
   "metadata": {},
   "outputs": [
    {
     "data": {
      "text/plain": [
       "(855349, 33)"
      ]
     },
     "execution_count": 24,
     "metadata": {},
     "output_type": "execute_result"
    }
   ],
   "source": [
    "incidents_df.shape"
   ]
  },
  {
   "cell_type": "code",
   "execution_count": 26,
   "metadata": {},
   "outputs": [],
   "source": [
    "incidents_all = incidents_df.append(inci_20,ignore_index = True)"
   ]
  },
  {
   "cell_type": "code",
   "execution_count": 31,
   "metadata": {},
   "outputs": [],
   "source": [
    "incidents_all = incidents_all[incidents_all.occurred_month.isin(month_list)]"
   ]
  },
  {
   "cell_type": "code",
   "execution_count": 38,
   "metadata": {},
   "outputs": [],
   "source": [
    "incidents_all.columns = incidents_all.columns.str.replace(' ', '_')"
   ]
  },
  {
   "cell_type": "code",
   "execution_count": 39,
   "metadata": {},
   "outputs": [],
   "source": [
    "incidents_all.columns = incidents_all.columns.str.lower()"
   ]
  },
  {
   "cell_type": "code",
   "execution_count": 56,
   "metadata": {},
   "outputs": [],
   "source": [
    "incidents_all.to_csv('../data/incidents_5months.csv',index=False)"
   ]
  },
  {
   "cell_type": "code",
   "execution_count": 37,
   "metadata": {},
   "outputs": [
    {
     "data": {
      "text/plain": [
       "occurred_month  occurred_year\n",
       "1               2018             10484\n",
       "                2017             10458\n",
       "                2020              9847\n",
       "                2013              9815\n",
       "                2019              9798\n",
       "                2016              9664\n",
       "                2015              9512\n",
       "                2014              9317\n",
       "2               2018              9532\n",
       "                2020              9390\n",
       "                2016              9382\n",
       "                2017              8902\n",
       "                2013              8387\n",
       "                2019              8374\n",
       "                2014              8343\n",
       "                2015              7983\n",
       "3               2016             10836\n",
       "                2018             10301\n",
       "                2015             10110\n",
       "                2017             10050\n",
       "                2014              9736\n",
       "                2013              9538\n",
       "                2019              9401\n",
       "                2020              9268\n",
       "4               2016             10741\n",
       "                2017             10439\n",
       "                2014             10286\n",
       "                2015             10281\n",
       "                2018             10110\n",
       "                2013             10072\n",
       "                2019             10070\n",
       "                2020              8574\n",
       "5               2017             11134\n",
       "                2015             11057\n",
       "                2014             11008\n",
       "                2018             10835\n",
       "                2016             10629\n",
       "                2019             10614\n",
       "                2013             10329\n",
       "                2020              8915\n",
       "Name: occurred_year, dtype: int64"
      ]
     },
     "execution_count": 37,
     "metadata": {},
     "output_type": "execute_result"
    }
   ],
   "source": [
    "incidents_all.groupby('occurred_month')['occurred_year'].value_counts()"
   ]
  },
  {
   "cell_type": "code",
   "execution_count": 36,
   "metadata": {},
   "outputs": [
    {
     "data": {
      "text/plain": [
       "occurred_year  occurred_month\n",
       "2013           5                 10329\n",
       "               4                 10072\n",
       "               1                  9815\n",
       "               3                  9538\n",
       "               2                  8387\n",
       "2014           5                 11008\n",
       "               4                 10286\n",
       "               3                  9736\n",
       "               1                  9317\n",
       "               2                  8343\n",
       "2015           5                 11057\n",
       "               4                 10281\n",
       "               3                 10110\n",
       "               1                  9512\n",
       "               2                  7983\n",
       "2016           3                 10836\n",
       "               4                 10741\n",
       "               5                 10629\n",
       "               1                  9664\n",
       "               2                  9382\n",
       "2017           5                 11134\n",
       "               1                 10458\n",
       "               4                 10439\n",
       "               3                 10050\n",
       "               2                  8902\n",
       "2018           5                 10835\n",
       "               1                 10484\n",
       "               3                 10301\n",
       "               4                 10110\n",
       "               2                  9532\n",
       "2019           5                 10614\n",
       "               4                 10070\n",
       "               1                  9798\n",
       "               3                  9401\n",
       "               2                  8374\n",
       "2020           1                  9847\n",
       "               2                  9390\n",
       "               3                  9268\n",
       "               5                  8915\n",
       "               4                  8574\n",
       "Name: occurred_month, dtype: int64"
      ]
     },
     "execution_count": 36,
     "metadata": {},
     "output_type": "execute_result"
    }
   ],
   "source": [
    "incidents_all.groupby('occurred_year')['occurred_month'].value_counts()"
   ]
  },
  {
   "cell_type": "code",
   "execution_count": 43,
   "metadata": {},
   "outputs": [],
   "source": [
    "facet_df_incidents = incidents_all.groupby('occurred_month')['occurred_year'].value_counts().to_frame()"
   ]
  },
  {
   "cell_type": "code",
   "execution_count": 45,
   "metadata": {},
   "outputs": [],
   "source": [
    "facet_df_incidents.columns =['incidents_counts']"
   ]
  },
  {
   "cell_type": "code",
   "execution_count": 46,
   "metadata": {},
   "outputs": [],
   "source": [
    "facet_df_incidents=facet_df_incidents.reset_index()"
   ]
  },
  {
   "cell_type": "code",
   "execution_count": 66,
   "metadata": {},
   "outputs": [
    {
     "data": {
      "image/png": "[encoded data removed]",
      "text/plain": [
       "<Figure size 864x432 with 8 Axes>"
      ]
     },
     "metadata": {
      "needs_background": "light"
     },
     "output_type": "display_data"
    }
   ],
   "source": [
    "#att = sns.load_dataset(\"attention\")\n",
    "#>>> g = sns.FacetGrid(att, col=\"subject\", col_wrap=5, height=1.5)\n",
    "#>>> g = g.map(plt.plot, \"solutions\", \"score\", marker=\".\")\n",
    "facet_df_incidents\n",
    "g = sns.FacetGrid(facet_df_incidents, col='occurred_year', col_wrap =4)\n",
    "g = g.map(plt.plot,'occurred_month','incidents_counts', marker='.')"
   ]
  },
  {
   "cell_type": "markdown",
   "metadata": {},
   "source": [
    "The above FacetGrid shows January and February with a relative drop in crime and an uptick starting in March and steadily increasing as with a cap in May with an exception in 2016. As we look above the incidents for 2020 start in the normal range and proceed to drop once the stay at home order goes live in April. With the Outbreak of Covid-19 getting more coverage in the media, a question of people staying home even before the Order was announced could be made."
   ]
  }
 ],
 "metadata": {
  "kernelspec": {
   "display_name": "Python 3",
   "language": "python",
   "name": "python3"
  },
  "language_info": {
   "codemirror_mode": {
    "name": "ipython",
    "version": 3
   },
   "file_extension": ".py",
   "mimetype": "text/x-python",
   "name": "python",
   "nbconvert_exporter": "python",
   "pygments_lexer": "ipython3",
   "version": "3.7.4"
  }
 },
 "nbformat": 4,
 "nbformat_minor": 2
}
